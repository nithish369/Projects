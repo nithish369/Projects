{
 "cells": [
  {
   "cell_type": "code",
   "execution_count": 45,
   "id": "adde32bf",
   "metadata": {},
   "outputs": [],
   "source": [
    "from tkinter import *\n",
    "converter=Tk()\n",
    "converter.title(\"Currency Converter\")\n",
    "converter.geometry('800x600')\n",
    "\n",
    "options={\"Australian Dollar\":49.10, \"Brazilian Real\":17.30, \"British Pound\":90.92, 'Chinese Yuan':10.29,\n",
    "'Euro':77.85, 'HongKong Dollar':8.83, 'Indonesian Rupiah':0.004864, 'Japanese Yen':0.628,'Pakistani Rupee':0.49,\n",
    "'SriLankan Rupee':0.39, 'Swiss Franc':69.62, 'Us Dollar':69.32 }\n",
    "\n",
    "def ok():\n",
    "    price = inp.get()\n",
    "    answer = v1.get()\n",
    "    d = options.get(answer,None)\n",
    "    converted = float(d)*float(price)\n",
    "    result.delete(1.0,END)\n",
    "    result.insert(INSERT,'Price in ',INSERT,answer,INSERT,' = ',INSERT,converted)\n",
    "\n",
    "appName = Label(converter,text=\"Currency Converter\",font=(\"arial\",25,\"bold\",\"underline\"),fg=\"dark red\")\n",
    "appName.place(x=150, y=10)\n",
    "\n",
    "l=Label(converter,text=\"Value in Indian Rupees:\",font=(\"Times New Roman\",20,\"bold\"),fg=\"red\")\n",
    "l.place(x=10,y=60)\n",
    "\n",
    "inp = Entry(converter,width=20,font=(\"arial\",10,\"bold\"),bd=5)\n",
    "inp.place(x=300, y=60)\n",
    "\n",
    "choice = Label(converter,text=\"Choose the currency:\",font=(\"Times New Roman\",20,\"bold\"),fg=\"red\")\n",
    "choice.place(x=10 ,y=120)\n",
    "\n",
    "v1 = StringVar(converter)\n",
    "v1.set(\"--Select--\")\n",
    "\n",
    "option = OptionMenu(converter,v1,*options)\n",
    "option.place(x=300 , y=120,width=200, height=40)\n",
    "\n",
    "result = Text(converter,height=2,width=50,font=(\"arial\",10,\"bold\"),bd=5)\n",
    "result.place(x=300, y=180)\n",
    "\n",
    "\n",
    "\n",
    "button = Button(converter,text=\"Convert\",fg=\"white\",font=(\"arial\",20),bg=\"black\",command=ok)\n",
    "button.place(x=200, y=250,height=40,width=150)\n",
    "\n",
    "converter.mainloop()"
   ]
  },
  {
   "cell_type": "code",
   "execution_count": null,
   "id": "9af2e2f4",
   "metadata": {},
   "outputs": [],
   "source": []
  },
  {
   "cell_type": "code",
   "execution_count": null,
   "id": "09f75eae",
   "metadata": {},
   "outputs": [],
   "source": []
  }
 ],
 "metadata": {
  "kernelspec": {
   "display_name": "Python 3",
   "language": "python",
   "name": "python3"
  },
  "language_info": {
   "codemirror_mode": {
    "name": "ipython",
    "version": 3
   },
   "file_extension": ".py",
   "mimetype": "text/x-python",
   "name": "python",
   "nbconvert_exporter": "python",
   "pygments_lexer": "ipython3",
   "version": "3.8.8"
  }
 },
 "nbformat": 4,
 "nbformat_minor": 5
}
